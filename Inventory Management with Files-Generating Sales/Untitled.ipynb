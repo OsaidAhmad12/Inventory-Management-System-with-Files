{
 "cells": [
  {
   "cell_type": "markdown",
   "id": "d2c2c45d-4e95-4e7d-92ca-8260b6670e14",
   "metadata": {},
   "source": [
    "## PRODUCT DETAILS\n",
    "1.PRODUCT ID\n",
    "2.NAME OF THE PRODUCT\n",
    "3.PRICE OF THE PRODUCT\n",
    "4.QUANTITY"
   ]
  },
  {
   "cell_type": "code",
   "execution_count": 15,
   "id": "0eac97e2-7493-4875-bd3f-bc6100d8419e",
   "metadata": {},
   "outputs": [
    {
     "name": "stdout",
     "output_type": "stream",
     "text": [
      "1,5 Star,5,100\n",
      "2,Milky Bar,5,100\n",
      "3,Cake,300,1\n",
      "4,Candy,1,200\n",
      "\n"
     ]
    }
   ],
   "source": [
    "fd=open(\"Inventory.txt\",\"r\")\n",
    "txt=fd.read()\n",
    "print(txt)\n",
    "fd.close()\n"
   ]
  },
  {
   "cell_type": "code",
   "execution_count": 17,
   "id": "f5911cf3-60e6-4cac-a46a-2a36aa8b1744",
   "metadata": {},
   "outputs": [
    {
     "name": "stdout",
     "output_type": "stream",
     "text": [
      "1,5 Star,5,100\n",
      "2,Milky Bar,5,100\n",
      "3,Cake,300,1\n",
      "4,Candy,1,200\n",
      "\n"
     ]
    }
   ],
   "source": [
    "products=txt.split(\"\\n\")\n",
    "for product in products:\n",
    "    print(product)"
   ]
  },
  {
   "cell_type": "code",
   "execution_count": 23,
   "id": "bee3e16c-867b-49de-b807-f7b8ea28443f",
   "metadata": {},
   "outputs": [
    {
     "name": "stdin",
     "output_type": "stream",
     "text": [
      "Enter your name: sdfdsf\n",
      "Enter your phone number: 234324\n",
      "Enter your email address: dfdsfsf\n",
      "Enter the product id: 1\n",
      "Enter the quantity: 3\n"
     ]
    },
    {
     "name": "stdout",
     "output_type": "stream",
     "text": [
      "------------------------------------------\n",
      "Name of the product: 5 Star\n",
      "Price of the product: 5\n",
      "Quantity: 3\n",
      "------------------------------------------\n",
      "Billing amount: 15\n",
      "------------------------------------------\n"
     ]
    }
   ],
   "source": [
    "name=input(\"Enter your name:\")\n",
    "phone_number=input(\"Enter your phone number:\")\n",
    "email=input(\"Enter your email address:\")\n",
    "product_id=input(\"Enter the product id:\")\n",
    "product_quantity=input(\"Enter the quantity:\")\n",
    "updated_product_lst=[]\n",
    "print(\"------------------------------------------\")\n",
    "for product in products:\n",
    "    product_details=product.split(\",\")\n",
    "    if(product_details[0]==product_id):\n",
    "        if(int(product_quantity)<=int(product_details[3])):\n",
    "            print(\"Name of the product:\",product_details[1])\n",
    "            print(\"Price of the product:\",product_details[2])\n",
    "            print(\"Quantity:\",product_quantity)\n",
    "            print(\"------------------------------------------\")\n",
    "            print(\"Billing amount:\",int(product_details[2])*int(product_quantity))\n",
    "            print(\"------------------------------------------\")\n",
    "            \n",
    "            product_details[3]=str(int(product_details[3])-int(product_quantity))\n",
    "\n",
    "            fd=open(\"Sales.txt\",\"a\")\n",
    "            sales_detail=name+\",\"+phone_number+\",\"+email+\",\"+product_id+\",\"+product_quantity+\",\"+str(int(product_details[2])*int(product_quantity))+\"\\n\"\n",
    "            fd.write(sales_detail)\n",
    "            fd.close()\n",
    "            \n",
    "        else:\n",
    "            print(\"Sorry! We are not having enough quantity\")\n",
    "            if(int(product_details[3])!=0):\n",
    "                print(\"We are having only\",product_details[3],\"quantities available\")\n",
    "                print(\"Would you like to purchase it?\")\n",
    "                ch=input(\"Press Y/N:\")\n",
    "                if(ch=='Y' or ch=='y'):\n",
    "                    print(\"Name of the product:\",product_details[1])\n",
    "                    print(\"Price of the product:\",product_details[2])\n",
    "                    print(\"Quantity:\",product_details[3])\n",
    "                    print(\"------------------------------------------\")\n",
    "                    print(\"Billing amount:\",int(product_details[2])*int(product_details[3]))\n",
    "                    print(\"------------------------------------------\")\n",
    "                    product_details[3]='0'\n",
    "                    \n",
    "                \n",
    "    \n",
    "    updated_product_lst.append(product_details)\n",
    "\n",
    "fd=open(\"Inventory.txt\",\"w\")\n",
    "for i in updated_product_lst:\n",
    "    if(len(i)>1):\n",
    "        product_details=(i[0]+\",\"+i[1]+\",\"+i[2]+\",\"+i[3]+\"\\n\")\n",
    "        fd.write(product_details)\n",
    "fd.close()"
   ]
  },
  {
   "cell_type": "code",
   "execution_count": 7,
   "id": "94dc5acf-1de0-4eb5-afc7-b46a36efa499",
   "metadata": {},
   "outputs": [
    {
     "name": "stdout",
     "output_type": "stream",
     "text": [
      "1,5 Star,5,100\n",
      "2,Milky Bar,5,97\n",
      "3,Cake,300,5\n",
      "4,Candy,1,200\n",
      "\n"
     ]
    }
   ],
   "source": [
    "fd=open(\"Inventory.txt\",\"r\")\n",
    "txt=fd.read()\n",
    "print(txt)"
   ]
  },
  {
   "cell_type": "code",
   "execution_count": 25,
   "id": "7436a3ed-e74e-4297-a19c-3b20662e7e0a",
   "metadata": {},
   "outputs": [
    {
     "name": "stdout",
     "output_type": "stream",
     "text": [
      "Osaid,32435,43434@dfgfg.com,2,3,15addv,4556765,cvdg@vdg.com,3,4,1200dfdfg,32432,435ewcdsf.com,3,1,300\n",
      "sdfdsf,234324,dfdsfsf,1,3,15\n",
      "\n"
     ]
    }
   ],
   "source": [
    "fd=open(\"sales.txt\",\"r\")\n",
    "txt=fd.read()\n",
    "print(txt)"
   ]
  },
  {
   "cell_type": "code",
   "execution_count": null,
   "id": "6b0ef179-167b-4eac-a09f-61b0f4a54c80",
   "metadata": {},
   "outputs": [],
   "source": []
  }
 ],
 "metadata": {
  "kernelspec": {
   "display_name": "Python 3 (ipykernel)",
   "language": "python",
   "name": "python3"
  },
  "language_info": {
   "codemirror_mode": {
    "name": "ipython",
    "version": 3
   },
   "file_extension": ".py",
   "mimetype": "text/x-python",
   "name": "python",
   "nbconvert_exporter": "python",
   "pygments_lexer": "ipython3",
   "version": "3.12.4"
  }
 },
 "nbformat": 4,
 "nbformat_minor": 5
}
