{
 "cells": [
  {
   "cell_type": "markdown",
   "id": "c249ac40-78d2-452d-a88a-03eeac294679",
   "metadata": {},
   "source": [
    "## Product Details\n",
    "1.PRODUCT ID\n",
    "2.NAME OF THE PRODUCT\n",
    "3.PRICE OF THE PRODUCT\n",
    "4.QUANTITY \n"
   ]
  },
  {
   "cell_type": "code",
   "execution_count": 42,
   "id": "efe9267d-20e3-4ca6-b3a5-ed25e02c8c3d",
   "metadata": {},
   "outputs": [
    {
     "name": "stdout",
     "output_type": "stream",
     "text": [
      "1,5 Star,5,94\n",
      "2,Milky Bar,5,100\n",
      "3,Cake,300,5\n",
      "4,Candy,1,200\n",
      "\n"
     ]
    }
   ],
   "source": [
    "fd=open(\"Inventory.txt\",\"r\")\n",
    "txt=fd.read()\n",
    "print(txt)\n",
    "fd.close()"
   ]
  },
  {
   "cell_type": "code",
   "execution_count": 5,
   "id": "5742d791-73e2-416c-b8d4-55df83c51703",
   "metadata": {},
   "outputs": [
    {
     "data": {
      "text/plain": [
       "'1,5 Star,5,100\\n2,Milky Bar,5,100\\n3,Cake,300,5\\n4,Candy,1,200'"
      ]
     },
     "execution_count": 5,
     "metadata": {},
     "output_type": "execute_result"
    }
   ],
   "source": [
    "txt\n"
   ]
  },
  {
   "cell_type": "code",
   "execution_count": 12,
   "id": "bfd69d70-4c39-41c3-8fb5-47ca2c811735",
   "metadata": {},
   "outputs": [
    {
     "name": "stdout",
     "output_type": "stream",
     "text": [
      "1,5 Star,5,100\n",
      "2,Milky Bar,5,100\n",
      "3,Cake,300,5\n",
      "4,Candy,1,200\n"
     ]
    }
   ],
   "source": [
    "products=txt.split(\"\\n\")\n",
    "for product in products:\n",
    "    print(product)"
   ]
  },
  {
   "cell_type": "code",
   "execution_count": 68,
   "id": "349904f1-f122-430a-9d51-d95cd99226d1",
   "metadata": {},
   "outputs": [
    {
     "name": "stdin",
     "output_type": "stream",
     "text": [
      "Enter the product id: 1\n",
      "Enter the quantity: 10\n"
     ]
    },
    {
     "name": "stdout",
     "output_type": "stream",
     "text": [
      "------------------------------------------\n",
      "Name of the product: 5 Star\n",
      "Price of the product: 5\n",
      "Quantity: 10\n",
      "------------------------------------------\n",
      "Billing amount: 50\n",
      "------------------------------------------\n"
     ]
    }
   ],
   "source": [
    "product_id=input(\"Enter the product id:\")\n",
    "product_quantity=input(\"Enter the quantity:\")\n",
    "updated_product_lst=[]\n",
    "print(\"------------------------------------------\")\n",
    "for product in products:\n",
    "    product_details=product.split(\",\")\n",
    "    if(product_details[0]==product_id):\n",
    "        print(\"Name of the product:\",product_details[1])\n",
    "        print(\"Price of the product:\",product_details[2])\n",
    "        print(\"Quantity:\",product_quantity)\n",
    "        print(\"------------------------------------------\")\n",
    "        print(\"Billing amount:\",int(product_details[2])*int(product_quantity))\n",
    "        print(\"------------------------------------------\")\n",
    "\n",
    "        \n",
    "        product_details[3]=str(int(product_details[3])-int(product_quantity))\n",
    "    updated_product_lst.append(product_details)\n",
    "\n",
    "fd=open(\"Inventory.txt\",\"w\")\n",
    "for i in updated_product_lst:\n",
    "    if(len(i)>1):\n",
    "        product_details=(i[0]+\",\"+i[1]+\",\"+i[2]+\",\"+i[3]+\"\\n\")\n",
    "        fd.write(product_details)\n",
    "fd.close()"
   ]
  },
  {
   "cell_type": "code",
   "execution_count": 66,
   "id": "8355f32d-b08c-4f01-909f-edbecfc92b85",
   "metadata": {
    "scrolled": true
   },
   "outputs": [
    {
     "name": "stdout",
     "output_type": "stream",
     "text": [
      "1,5 Star,5,94\n",
      "2,Milky Bar,5,100\n",
      "3,Cake,300,5\n",
      "4,Candy,1,200\n",
      "\n"
     ]
    }
   ],
   "source": [
    "products=txt.split(\"\\n\")\n",
    "for product in products:\n",
    "    print(product)"
   ]
  },
  {
   "cell_type": "code",
   "execution_count": 70,
   "id": "9d1a130a-f155-4b38-b0aa-c9f9067bac0d",
   "metadata": {},
   "outputs": [
    {
     "name": "stdout",
     "output_type": "stream",
     "text": [
      "1,5 Star,5,84\n",
      "2,Milky Bar,5,100\n",
      "3,Cake,300,5\n",
      "4,Candy,1,200\n"
     ]
    },
    {
     "ename": "IndexError",
     "evalue": "list index out of range",
     "output_type": "error",
     "traceback": [
      "\u001b[1;31m---------------------------------------------------------------------------\u001b[0m",
      "\u001b[1;31mIndexError\u001b[0m                                Traceback (most recent call last)",
      "Cell \u001b[1;32mIn[70], line 2\u001b[0m\n\u001b[0;32m      1\u001b[0m \u001b[38;5;28;01mfor\u001b[39;00m i \u001b[38;5;129;01min\u001b[39;00m updated_product_lst:\n\u001b[1;32m----> 2\u001b[0m     product_details\u001b[38;5;241m=\u001b[39m(i[\u001b[38;5;241m0\u001b[39m]\u001b[38;5;241m+\u001b[39m\u001b[38;5;124m\"\u001b[39m\u001b[38;5;124m,\u001b[39m\u001b[38;5;124m\"\u001b[39m\u001b[38;5;241m+\u001b[39mi[\u001b[38;5;241m1\u001b[39m]\u001b[38;5;241m+\u001b[39m\u001b[38;5;124m\"\u001b[39m\u001b[38;5;124m,\u001b[39m\u001b[38;5;124m\"\u001b[39m\u001b[38;5;241m+\u001b[39mi[\u001b[38;5;241m2\u001b[39m]\u001b[38;5;241m+\u001b[39m\u001b[38;5;124m\"\u001b[39m\u001b[38;5;124m,\u001b[39m\u001b[38;5;124m\"\u001b[39m\u001b[38;5;241m+\u001b[39mi[\u001b[38;5;241m3\u001b[39m])\n\u001b[0;32m      3\u001b[0m     \u001b[38;5;28mprint\u001b[39m(product_details)\n",
      "\u001b[1;31mIndexError\u001b[0m: list index out of range"
     ]
    }
   ],
   "source": [
    "for i in updated_product_lst:\n",
    "    product_details=(i[0]+\",\"+i[1]+\",\"+i[2]+\",\"+i[3])\n",
    "    print(product_details)"
   ]
  },
  {
   "cell_type": "code",
   "execution_count": 72,
   "id": "e85c0ebf-572e-47e2-b675-b2ea822eee05",
   "metadata": {},
   "outputs": [
    {
     "name": "stdout",
     "output_type": "stream",
     "text": [
      "1,5 Star,5,84\n",
      "2,Milky Bar,5,100\n",
      "3,Cake,300,5\n",
      "4,Candy,1,200\n",
      "\n"
     ]
    }
   ],
   "source": [
    "fd=open(\"Inventory.txt\",\"r\")\n",
    "txt=fd.read()\n",
    "print(txt)"
   ]
  }
 ],
 "metadata": {
  "kernelspec": {
   "display_name": "Python 3 (ipykernel)",
   "language": "python",
   "name": "python3"
  },
  "language_info": {
   "codemirror_mode": {
    "name": "ipython",
    "version": 3
   },
   "file_extension": ".py",
   "mimetype": "text/x-python",
   "name": "python",
   "nbconvert_exporter": "python",
   "pygments_lexer": "ipython3",
   "version": "3.12.4"
  }
 },
 "nbformat": 4,
 "nbformat_minor": 5
}
