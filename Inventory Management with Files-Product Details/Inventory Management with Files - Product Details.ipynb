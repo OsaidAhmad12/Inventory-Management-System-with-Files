{
 "cells": [
  {
   "cell_type": "code",
   "execution_count": 1,
   "id": "6597eb4b-a465-4b76-bc52-b23a49e02acd",
   "metadata": {},
   "outputs": [],
   "source": [
    "fd=open(\"Inventory.txt\",\"w\")\n",
    "fd.close()"
   ]
  },
  {
   "cell_type": "markdown",
   "id": "b578d0ad-2f35-49f5-a86c-83a7456a6aa0",
   "metadata": {},
   "source": [
    "## PRODUCT DETAILS\n",
    "1.PRODUCT ID\n",
    "2.NAME OF THE PRODUCT\n",
    "3.PRICE OF THE PRODUCT\n",
    "4.QUANTITY"
   ]
  },
  {
   "cell_type": "code",
   "execution_count": 3,
   "id": "924316b7-32c3-4cef-894c-169d9b56fdc3",
   "metadata": {},
   "outputs": [
    {
     "name": "stdout",
     "output_type": "stream",
     "text": [
      "1,5 Star,5,100\n",
      "2,Milky Bar,5,100\n",
      "3,Cake,300,5\n",
      "4,Candy,1,200\n"
     ]
    }
   ],
   "source": [
    "fd=open(\"Inventory.txt\",\"r\")\n",
    "txt=fd.read()\n",
    "print(txt)\n",
    "fd.close()"
   ]
  },
  {
   "cell_type": "code",
   "execution_count": 5,
   "id": "5cd3a1d4-71f3-4af2-a9cf-a2aa01aeaee5",
   "metadata": {},
   "outputs": [
    {
     "data": {
      "text/plain": [
       "'1,5 Star,5,100\\n2,Milky Bar,5,100\\n3,Cake,300,5\\n4,Candy,1,200'"
      ]
     },
     "execution_count": 5,
     "metadata": {},
     "output_type": "execute_result"
    }
   ],
   "source": [
    "txt"
   ]
  },
  {
   "cell_type": "code",
   "execution_count": 9,
   "id": "a9e7ac4d-592d-4c0b-b26e-8dc870b025ff",
   "metadata": {},
   "outputs": [],
   "source": [
    "products=txt.split(\"\\n\")"
   ]
  },
  {
   "cell_type": "code",
   "execution_count": 12,
   "id": "a9e85b59-ef64-4dc0-846d-84fb25172176",
   "metadata": {},
   "outputs": [
    {
     "data": {
      "text/plain": [
       "['1,5 Star,5,100', '2,Milky Bar,5,100', '3,Cake,300,5', '4,Candy,1,200']"
      ]
     },
     "execution_count": 12,
     "metadata": {},
     "output_type": "execute_result"
    }
   ],
   "source": [
    "products"
   ]
  },
  {
   "cell_type": "code",
   "execution_count": 18,
   "id": "786a6712-d15f-4e11-af39-95734967356d",
   "metadata": {},
   "outputs": [
    {
     "name": "stdout",
     "output_type": "stream",
     "text": [
      "1,5 Star,5,100\n",
      "2,Milky Bar,5,100\n",
      "3,Cake,300,5\n",
      "4,Candy,1,200\n"
     ]
    }
   ],
   "source": [
    "for product in products:\n",
    "    print(product)"
   ]
  },
  {
   "cell_type": "code",
   "execution_count": 34,
   "id": "fe72db1d-6e31-46ce-b52a-cc35dd0f1621",
   "metadata": {},
   "outputs": [
    {
     "name": "stdin",
     "output_type": "stream",
     "text": [
      "Enter the product id: 2\n",
      "Enter the product quantity: 2\n"
     ]
    },
    {
     "name": "stdout",
     "output_type": "stream",
     "text": [
      "------------------------------------------\n",
      "Product Name: Milky Bar\n",
      "Price : 5\n",
      "Quantity: 2\n",
      "------------------------------------------\n",
      "Billing Amount: 10\n"
     ]
    }
   ],
   "source": [
    "product_id=input(\"Enter the product id:\")\n",
    "product_quantity=input(\"Enter the product quantity:\")\n",
    "print(\"------------------------------------------\")\n",
    "for product in products:\n",
    "    product_details=product.split(\",\")\n",
    "    if(product_details[0]==product_id):\n",
    "        print(\"Product Name:\",product_details[1])\n",
    "        print(\"Price :\",product_details[2])\n",
    "        print(\"Quantity:\",product_quantity)\n",
    "        print(\"------------------------------------------\")\n",
    "        print(\"Billing Amount:\",int(product_quantity)*int(product_details[2]))\n",
    "        "
   ]
  }
 ],
 "metadata": {
  "kernelspec": {
   "display_name": "Python 3 (ipykernel)",
   "language": "python",
   "name": "python3"
  },
  "language_info": {
   "codemirror_mode": {
    "name": "ipython",
    "version": 3
   },
   "file_extension": ".py",
   "mimetype": "text/x-python",
   "name": "python",
   "nbconvert_exporter": "python",
   "pygments_lexer": "ipython3",
   "version": "3.12.4"
  }
 },
 "nbformat": 4,
 "nbformat_minor": 5
}
