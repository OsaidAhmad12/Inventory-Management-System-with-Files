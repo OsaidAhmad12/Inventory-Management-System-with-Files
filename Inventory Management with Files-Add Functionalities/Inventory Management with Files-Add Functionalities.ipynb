{
 "cells": [
  {
   "cell_type": "markdown",
   "id": "e6c60863-afb9-4c6c-86f0-6e9e7e4bc553",
   "metadata": {},
   "source": [
    "## PRODUCT DETAILS\n",
    "1.PRODUCT ID\n",
    "2.NAME OF THE PRODUCT\n",
    "3.PRICE OF THE PRODUCT\n",
    "4.QUANTITY"
   ]
  },
  {
   "cell_type": "code",
   "execution_count": 32,
   "id": "2c756b6d-25a5-4dc4-969f-b308a80fdc00",
   "metadata": {},
   "outputs": [
    {
     "name": "stdout",
     "output_type": "stream",
     "text": [
      "1,5 Star,5,100\n",
      "2,Milky Bar,5,100\n",
      "3,Cake,300,5\n",
      "4,Candy,1,200\n",
      "\n"
     ]
    }
   ],
   "source": [
    "fd=open(\"Inventory.txt\",\"r\")\n",
    "txt=fd.read()\n",
    "print(txt)\n",
    "fd.close()\n"
   ]
  },
  {
   "cell_type": "code",
   "execution_count": 34,
   "id": "6d9b8ce8-0ed9-4f23-b362-118c792de101",
   "metadata": {},
   "outputs": [
    {
     "name": "stdout",
     "output_type": "stream",
     "text": [
      "1,5 Star,5,100\n",
      "2,Milky Bar,5,100\n",
      "3,Cake,300,5\n",
      "4,Candy,1,200\n",
      "\n"
     ]
    }
   ],
   "source": [
    "products=txt.split(\"\\n\")\n",
    "for product in products:\n",
    "    print(product)"
   ]
  },
  {
   "cell_type": "code",
   "execution_count": 48,
   "id": "25cd721c-b114-4f07-86a6-7599326049a0",
   "metadata": {},
   "outputs": [
    {
     "name": "stdin",
     "output_type": "stream",
     "text": [
      "Enter the product id: 3\n",
      "Enter the quantity: 10\n"
     ]
    },
    {
     "name": "stdout",
     "output_type": "stream",
     "text": [
      "------------------------------------------\n",
      "Sorry! We are not having enough quantity\n",
      "We are having only 5 quantities available\n",
      "Would you like to purchase it?\n"
     ]
    },
    {
     "name": "stdin",
     "output_type": "stream",
     "text": [
      "Press Y/N Y\n"
     ]
    },
    {
     "name": "stdout",
     "output_type": "stream",
     "text": [
      "Name of the product: Cake\n",
      "Price of the product: 300\n",
      "Quantity: 5\n",
      "------------------------------------------\n",
      "Billing amount: 1500\n",
      "------------------------------------------\n"
     ]
    }
   ],
   "source": [
    "product_id=input(\"Enter the product id:\")\n",
    "product_quantity=input(\"Enter the quantity:\")\n",
    "updated_product_lst=[]\n",
    "print(\"------------------------------------------\")\n",
    "for product in products:\n",
    "    product_details=product.split(\",\")\n",
    "    if(product_details[0]==product_id):\n",
    "        if(int(product_quantity)<=int(product_details[3])):\n",
    "            print(\"Name of the product:\",product_details[1])\n",
    "            print(\"Price of the product:\",product_details[2])\n",
    "            print(\"Quantity:\",product_quantity)\n",
    "            print(\"------------------------------------------\")\n",
    "            print(\"Billing amount:\",int(product_details[2])*int(product_quantity))\n",
    "            print(\"------------------------------------------\")\n",
    "            \n",
    "            product_details[3]=str(int(product_details[3])-int(product_quantity))\n",
    "        else:\n",
    "            print(\"Sorry! We are not having enough quantity\")\n",
    "            if(int(product_details[3])!=0):\n",
    "                print(\"We are having only\",product_details[3],\"quantities available\")\n",
    "                print(\"Would you like to purchase it?\")\n",
    "                ch=input(\"Press Y/N:\")\n",
    "                if(ch=='Y' or ch=='y'):\n",
    "                    print(\"Name of the product:\",product_details[1])\n",
    "                    print(\"Price of the product:\",product_details[2])\n",
    "                    print(\"Quantity:\",product_details[3])\n",
    "                    print(\"------------------------------------------\")\n",
    "                    print(\"Billing amount:\",int(product_details[2])*int(product_details[3]))\n",
    "                    print(\"------------------------------------------\")\n",
    "                    product_details[3]='0'\n",
    "                    \n",
    "                \n",
    "    \n",
    "    updated_product_lst.append(product_details)\n",
    "\n",
    "fd=open(\"Inventory.txt\",\"w\")\n",
    "for i in updated_product_lst:\n",
    "    if(len(i)>1):\n",
    "        product_details=(i[0]+\",\"+i[1]+\",\"+i[2]+\",\"+i[3]+\"\\n\")\n",
    "        fd.write(product_details)\n",
    "fd.close()"
   ]
  },
  {
   "cell_type": "code",
   "execution_count": 50,
   "id": "a4d68a7d-4db7-4023-a9db-ea69fbe12609",
   "metadata": {},
   "outputs": [
    {
     "name": "stdout",
     "output_type": "stream",
     "text": [
      "1,5 Star,5,100\n",
      "2,Milky Bar,5,100\n",
      "3,Cake,300,0\n",
      "4,Candy,1,200\n",
      "\n"
     ]
    }
   ],
   "source": [
    "fd=open(\"Inventory.txt\",\"r\")\n",
    "txt=fd.read()\n",
    "print(txt)"
   ]
  }
 ],
 "metadata": {
  "kernelspec": {
   "display_name": "Python 3 (ipykernel)",
   "language": "python",
   "name": "python3"
  },
  "language_info": {
   "codemirror_mode": {
    "name": "ipython",
    "version": 3
   },
   "file_extension": ".py",
   "mimetype": "text/x-python",
   "name": "python",
   "nbconvert_exporter": "python",
   "pygments_lexer": "ipython3",
   "version": "3.12.4"
  }
 },
 "nbformat": 4,
 "nbformat_minor": 5
}
